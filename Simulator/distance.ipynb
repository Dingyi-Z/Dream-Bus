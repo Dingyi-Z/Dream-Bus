{
 "cells": [
  {
   "cell_type": "code",
   "execution_count": 3,
   "metadata": {},
   "outputs": [],
   "source": [
    "import geopandas as gpd\n",
    "import pandas as pd\n",
    "import matplotlib.pyplot as plt\n",
    "import numpy as np\n",
    "import json\n",
    "import time\n",
    "import requests\n",
    "from datetime import datetime, timedelta\n",
    "from shapely.geometry import Point\n",
    "from busSim import BusSim\n",
    "from graph import Graph\n",
    "from geopy.distance import geodesic"
   ]
  },
  {
   "cell_type": "code",
   "execution_count": 1,
   "metadata": {},
   "outputs": [],
   "source": [
    "DATA_PATH = \"./\"\n",
    "DAY = \"monday\"\n",
    "START_TIME = \"12:00:00\"\n",
    "ELAPSE_TIME = \"00:45:00\"\n",
    "AVG_WALKING_SPEED = 1.4 # 1.4 meters per second\n",
    "MAX_WALKING_MIN = 45"
   ]
  },
  {
   "cell_type": "code",
   "execution_count": 27,
   "metadata": {},
   "outputs": [],
   "source": [
    "df = gpd.read_file(\"zip://DataMerge/block_group_2019.zip\")"
   ]
  },
  {
   "cell_type": "code",
   "execution_count": 47,
   "metadata": {},
   "outputs": [
    {
     "data": {
      "text/plain": [
       "<Geographic 2D CRS: EPSG:4326>\n",
       "Name: WGS 84\n",
       "Axis Info [ellipsoidal]:\n",
       "- Lat[north]: Geodetic latitude (degree)\n",
       "- Lon[east]: Geodetic longitude (degree)\n",
       "Area of Use:\n",
       "- name: World\n",
       "- bounds: (-180.0, -90.0, 180.0, 90.0)\n",
       "Datum: World Geodetic System 1984\n",
       "- Ellipsoid: WGS 84\n",
       "- Prime Meridian: Greenwich"
      ]
     },
     "execution_count": 47,
     "metadata": {},
     "output_type": "execute_result"
    }
   ],
   "source": [
    "df.crs"
   ]
  },
  {
   "cell_type": "code",
   "execution_count": 49,
   "metadata": {},
   "outputs": [
    {
     "name": "stderr",
     "output_type": "stream",
     "text": [
      "c:\\pathon\\lib\\site-packages\\ipykernel_launcher.py:1: UserWarning: Geometry is in a geographic CRS. Results from 'centroid' are likely incorrect. Use 'GeoSeries.to_crs()' to re-project geometries to a projected CRS before this operation.\n",
      "\n",
      "  \"\"\"Entry point for launching an IPython kernel.\n"
     ]
    }
   ],
   "source": [
    "df[\"centroid\"] = df.centroid\n",
    "gdf = df[[\"GEOID10\",\"centroid\"]]"
   ]
  },
  {
   "cell_type": "code",
   "execution_count": 54,
   "metadata": {},
   "outputs": [],
   "source": [
    "gdf = gdf.rename(columns={\"centroid\":\"geometry\"})"
   ]
  },
  {
   "cell_type": "code",
   "execution_count": 30,
   "metadata": {},
   "outputs": [],
   "source": [
    "libdf = pd.read_excel(\"lib.xlsx\")\n",
    "libdic = {}\n",
    "for idx,row in libdf.iterrows():\n",
    "    libdic[row[\"Library\"]] = (row[\"Latitude\"],row[\"Longitude\"])\n",
    "    \n",
    "df_coo = gpd.GeoDataFrame(libdf, geometry=gpd.points_from_xy(libdf.Longitude, libdf.Latitude))"
   ]
  },
  {
   "cell_type": "code",
   "execution_count": 31,
   "metadata": {},
   "outputs": [
    {
     "data": {
      "text/html": [
       "<div>\n",
       "<style scoped>\n",
       "    .dataframe tbody tr th:only-of-type {\n",
       "        vertical-align: middle;\n",
       "    }\n",
       "\n",
       "    .dataframe tbody tr th {\n",
       "        vertical-align: top;\n",
       "    }\n",
       "\n",
       "    .dataframe thead th {\n",
       "        text-align: right;\n",
       "    }\n",
       "</style>\n",
       "<table border=\"1\" class=\"dataframe\">\n",
       "  <thead>\n",
       "    <tr style=\"text-align: right;\">\n",
       "      <th></th>\n",
       "      <th>Library</th>\n",
       "      <th>Latitude</th>\n",
       "      <th>Longitude</th>\n",
       "      <th>geometry</th>\n",
       "    </tr>\n",
       "  </thead>\n",
       "  <tbody>\n",
       "    <tr>\n",
       "      <th>0</th>\n",
       "      <td>HPB</td>\n",
       "      <td>43.076071</td>\n",
       "      <td>-89.517674</td>\n",
       "      <td>POINT (-89.51767 43.07607)</td>\n",
       "    </tr>\n",
       "    <tr>\n",
       "      <th>1</th>\n",
       "      <td>MAD</td>\n",
       "      <td>43.073691</td>\n",
       "      <td>-89.387407</td>\n",
       "      <td>POINT (-89.38741 43.07369)</td>\n",
       "    </tr>\n",
       "    <tr>\n",
       "      <th>2</th>\n",
       "      <td>HAW</td>\n",
       "      <td>43.101474</td>\n",
       "      <td>-89.346346</td>\n",
       "      <td>POINT (-89.34635 43.10147)</td>\n",
       "    </tr>\n",
       "    <tr>\n",
       "      <th>3</th>\n",
       "      <td>LAK</td>\n",
       "      <td>43.127783</td>\n",
       "      <td>-89.362315</td>\n",
       "      <td>POINT (-89.36231 43.12778)</td>\n",
       "    </tr>\n",
       "    <tr>\n",
       "      <th>4</th>\n",
       "      <td>MEA</td>\n",
       "      <td>43.032483</td>\n",
       "      <td>-89.479143</td>\n",
       "      <td>POINT (-89.47914 43.03248)</td>\n",
       "    </tr>\n",
       "    <tr>\n",
       "      <th>5</th>\n",
       "      <td>MSB</td>\n",
       "      <td>43.065924</td>\n",
       "      <td>-89.415187</td>\n",
       "      <td>POINT (-89.41519 43.06592)</td>\n",
       "    </tr>\n",
       "    <tr>\n",
       "      <th>6</th>\n",
       "      <td>PIN</td>\n",
       "      <td>43.084486</td>\n",
       "      <td>-89.323934</td>\n",
       "      <td>POINT (-89.32393 43.08449)</td>\n",
       "    </tr>\n",
       "    <tr>\n",
       "      <th>7</th>\n",
       "      <td>SEQ</td>\n",
       "      <td>43.053816</td>\n",
       "      <td>-89.450558</td>\n",
       "      <td>POINT (-89.45056 43.05382)</td>\n",
       "    </tr>\n",
       "    <tr>\n",
       "      <th>8</th>\n",
       "      <td>SMB</td>\n",
       "      <td>43.041280</td>\n",
       "      <td>-89.394235</td>\n",
       "      <td>POINT (-89.39424 43.04128)</td>\n",
       "    </tr>\n",
       "  </tbody>\n",
       "</table>\n",
       "</div>"
      ],
      "text/plain": [
       "  Library   Latitude  Longitude                    geometry\n",
       "0     HPB  43.076071 -89.517674  POINT (-89.51767 43.07607)\n",
       "1     MAD  43.073691 -89.387407  POINT (-89.38741 43.07369)\n",
       "2     HAW  43.101474 -89.346346  POINT (-89.34635 43.10147)\n",
       "3     LAK  43.127783 -89.362315  POINT (-89.36231 43.12778)\n",
       "4     MEA  43.032483 -89.479143  POINT (-89.47914 43.03248)\n",
       "5     MSB  43.065924 -89.415187  POINT (-89.41519 43.06592)\n",
       "6     PIN  43.084486 -89.323934  POINT (-89.32393 43.08449)\n",
       "7     SEQ  43.053816 -89.450558  POINT (-89.45056 43.05382)\n",
       "8     SMB  43.041280 -89.394235  POINT (-89.39424 43.04128)"
      ]
     },
     "execution_count": 31,
     "metadata": {},
     "output_type": "execute_result"
    }
   ],
   "source": [
    "df_coo"
   ]
  },
  {
   "cell_type": "code",
   "execution_count": 45,
   "metadata": {},
   "outputs": [],
   "source": [
    "def outpoint(df_coo):\n",
    "    df_coo_distance=[]\n",
    "    for j in range(len(df_coo)):\n",
    "        delhi_1 = (df_coo['geometry'].iloc[j].x, df_coo['geometry'].iloc[j].y)\n",
    "        df_coo_distance.append(delhi_1)\n",
    "    df_coo['distance']=df_coo_distance\n",
    "    return df_coo"
   ]
  },
  {
   "cell_type": "code",
   "execution_count": 44,
   "metadata": {},
   "outputs": [
    {
     "data": {
      "text/plain": [
       "Distance(14.550026361923372)"
      ]
     },
     "execution_count": 44,
     "metadata": {},
     "output_type": "execute_result"
    }
   ],
   "source": [
    "geodesic(df_coo[df_coo['Library']==\"HPB\"][\"distance\"],df_coo[df_coo['Library']==\"MAD\"][\"distance\"])"
   ]
  },
  {
   "cell_type": "code",
   "execution_count": 41,
   "metadata": {},
   "outputs": [
    {
     "data": {
      "text/plain": [
       "0    (-89.517674, 43.076071)\n",
       "Name: distance, dtype: object"
      ]
     },
     "execution_count": 41,
     "metadata": {},
     "output_type": "execute_result"
    }
   ],
   "source": [
    "df_coo[df_coo['Library']==\"HPB\"][\"distance\"]"
   ]
  },
  {
   "cell_type": "code",
   "execution_count": 56,
   "metadata": {},
   "outputs": [],
   "source": [
    "gdf = outpoint(gdf)"
   ]
  },
  {
   "cell_type": "code",
   "execution_count": 57,
   "metadata": {},
   "outputs": [
    {
     "data": {
      "text/html": [
       "<div>\n",
       "<style scoped>\n",
       "    .dataframe tbody tr th:only-of-type {\n",
       "        vertical-align: middle;\n",
       "    }\n",
       "\n",
       "    .dataframe tbody tr th {\n",
       "        vertical-align: top;\n",
       "    }\n",
       "\n",
       "    .dataframe thead th {\n",
       "        text-align: right;\n",
       "    }\n",
       "</style>\n",
       "<table border=\"1\" class=\"dataframe\">\n",
       "  <thead>\n",
       "    <tr style=\"text-align: right;\">\n",
       "      <th></th>\n",
       "      <th>GEOID10</th>\n",
       "      <th>geometry</th>\n",
       "      <th>distance</th>\n",
       "    </tr>\n",
       "  </thead>\n",
       "  <tbody>\n",
       "    <tr>\n",
       "      <th>0</th>\n",
       "      <td>550250014031</td>\n",
       "      <td>POINT (-89.44025 43.02010)</td>\n",
       "      <td>(-89.44025297823605, 43.02010411472464)</td>\n",
       "    </tr>\n",
       "    <tr>\n",
       "      <th>1</th>\n",
       "      <td>550250020003</td>\n",
       "      <td>POINT (-89.34386 43.09155)</td>\n",
       "      <td>(-89.34386248640314, 43.091551144245436)</td>\n",
       "    </tr>\n",
       "    <tr>\n",
       "      <th>2</th>\n",
       "      <td>550250021002</td>\n",
       "      <td>POINT (-89.34670 43.10461)</td>\n",
       "      <td>(-89.34669792629813, 43.104609250272986)</td>\n",
       "    </tr>\n",
       "    <tr>\n",
       "      <th>3</th>\n",
       "      <td>550250021004</td>\n",
       "      <td>POINT (-89.35983 43.09928)</td>\n",
       "      <td>(-89.35982916386286, 43.099275386480954)</td>\n",
       "    </tr>\n",
       "    <tr>\n",
       "      <th>4</th>\n",
       "      <td>550250021003</td>\n",
       "      <td>POINT (-89.35331 43.10229)</td>\n",
       "      <td>(-89.35331357728143, 43.10228839448924)</td>\n",
       "    </tr>\n",
       "    <tr>\n",
       "      <th>...</th>\n",
       "      <td>...</td>\n",
       "      <td>...</td>\n",
       "      <td>...</td>\n",
       "    </tr>\n",
       "    <tr>\n",
       "      <th>195</th>\n",
       "      <td>550250105021</td>\n",
       "      <td>POINT (-89.26710 43.02063)</td>\n",
       "      <td>(-89.26709513259264, 43.02062609059783)</td>\n",
       "    </tr>\n",
       "    <tr>\n",
       "      <th>196</th>\n",
       "      <td>550250102001</td>\n",
       "      <td>POINT (-89.37188 43.11287)</td>\n",
       "      <td>(-89.37188244132358, 43.11287395761795)</td>\n",
       "    </tr>\n",
       "    <tr>\n",
       "      <th>197</th>\n",
       "      <td>550250018042</td>\n",
       "      <td>POINT (-89.36598 43.09629)</td>\n",
       "      <td>(-89.3659790553381, 43.09629005667259)</td>\n",
       "    </tr>\n",
       "    <tr>\n",
       "      <th>198</th>\n",
       "      <td>550259917020</td>\n",
       "      <td>POINT (-89.41980 43.10540)</td>\n",
       "      <td>(-89.41980325491498, 43.10540481514285)</td>\n",
       "    </tr>\n",
       "    <tr>\n",
       "      <th>199</th>\n",
       "      <td>550250114021</td>\n",
       "      <td>POINT (-89.26711 43.13045)</td>\n",
       "      <td>(-89.26710896256688, 43.13044779092364)</td>\n",
       "    </tr>\n",
       "  </tbody>\n",
       "</table>\n",
       "<p>200 rows × 3 columns</p>\n",
       "</div>"
      ],
      "text/plain": [
       "          GEOID10                    geometry  \\\n",
       "0    550250014031  POINT (-89.44025 43.02010)   \n",
       "1    550250020003  POINT (-89.34386 43.09155)   \n",
       "2    550250021002  POINT (-89.34670 43.10461)   \n",
       "3    550250021004  POINT (-89.35983 43.09928)   \n",
       "4    550250021003  POINT (-89.35331 43.10229)   \n",
       "..            ...                         ...   \n",
       "195  550250105021  POINT (-89.26710 43.02063)   \n",
       "196  550250102001  POINT (-89.37188 43.11287)   \n",
       "197  550250018042  POINT (-89.36598 43.09629)   \n",
       "198  550259917020  POINT (-89.41980 43.10540)   \n",
       "199  550250114021  POINT (-89.26711 43.13045)   \n",
       "\n",
       "                                     distance  \n",
       "0     (-89.44025297823605, 43.02010411472464)  \n",
       "1    (-89.34386248640314, 43.091551144245436)  \n",
       "2    (-89.34669792629813, 43.104609250272986)  \n",
       "3    (-89.35982916386286, 43.099275386480954)  \n",
       "4     (-89.35331357728143, 43.10228839448924)  \n",
       "..                                        ...  \n",
       "195   (-89.26709513259264, 43.02062609059783)  \n",
       "196   (-89.37188244132358, 43.11287395761795)  \n",
       "197    (-89.3659790553381, 43.09629005667259)  \n",
       "198   (-89.41980325491498, 43.10540481514285)  \n",
       "199   (-89.26710896256688, 43.13044779092364)  \n",
       "\n",
       "[200 rows x 3 columns]"
      ]
     },
     "execution_count": 57,
     "metadata": {},
     "output_type": "execute_result"
    }
   ],
   "source": [
    "gdf"
   ]
  },
  {
   "cell_type": "code",
   "execution_count": 58,
   "metadata": {},
   "outputs": [
    {
     "data": {
      "text/html": [
       "<div>\n",
       "<style scoped>\n",
       "    .dataframe tbody tr th:only-of-type {\n",
       "        vertical-align: middle;\n",
       "    }\n",
       "\n",
       "    .dataframe tbody tr th {\n",
       "        vertical-align: top;\n",
       "    }\n",
       "\n",
       "    .dataframe thead th {\n",
       "        text-align: right;\n",
       "    }\n",
       "</style>\n",
       "<table border=\"1\" class=\"dataframe\">\n",
       "  <thead>\n",
       "    <tr style=\"text-align: right;\">\n",
       "      <th></th>\n",
       "      <th>Library</th>\n",
       "      <th>Latitude</th>\n",
       "      <th>Longitude</th>\n",
       "      <th>geometry</th>\n",
       "      <th>distance</th>\n",
       "    </tr>\n",
       "  </thead>\n",
       "  <tbody>\n",
       "    <tr>\n",
       "      <th>0</th>\n",
       "      <td>HPB</td>\n",
       "      <td>43.076071</td>\n",
       "      <td>-89.517674</td>\n",
       "      <td>POINT (-89.51767 43.07607)</td>\n",
       "      <td>(-89.517674, 43.076071)</td>\n",
       "    </tr>\n",
       "    <tr>\n",
       "      <th>1</th>\n",
       "      <td>MAD</td>\n",
       "      <td>43.073691</td>\n",
       "      <td>-89.387407</td>\n",
       "      <td>POINT (-89.38741 43.07369)</td>\n",
       "      <td>(-89.387407, 43.073691)</td>\n",
       "    </tr>\n",
       "    <tr>\n",
       "      <th>2</th>\n",
       "      <td>HAW</td>\n",
       "      <td>43.101474</td>\n",
       "      <td>-89.346346</td>\n",
       "      <td>POINT (-89.34635 43.10147)</td>\n",
       "      <td>(-89.346346, 43.101474)</td>\n",
       "    </tr>\n",
       "    <tr>\n",
       "      <th>3</th>\n",
       "      <td>LAK</td>\n",
       "      <td>43.127783</td>\n",
       "      <td>-89.362315</td>\n",
       "      <td>POINT (-89.36231 43.12778)</td>\n",
       "      <td>(-89.362315, 43.127783)</td>\n",
       "    </tr>\n",
       "    <tr>\n",
       "      <th>4</th>\n",
       "      <td>MEA</td>\n",
       "      <td>43.032483</td>\n",
       "      <td>-89.479143</td>\n",
       "      <td>POINT (-89.47914 43.03248)</td>\n",
       "      <td>(-89.479143, 43.032483)</td>\n",
       "    </tr>\n",
       "    <tr>\n",
       "      <th>5</th>\n",
       "      <td>MSB</td>\n",
       "      <td>43.065924</td>\n",
       "      <td>-89.415187</td>\n",
       "      <td>POINT (-89.41519 43.06592)</td>\n",
       "      <td>(-89.415187, 43.065924)</td>\n",
       "    </tr>\n",
       "    <tr>\n",
       "      <th>6</th>\n",
       "      <td>PIN</td>\n",
       "      <td>43.084486</td>\n",
       "      <td>-89.323934</td>\n",
       "      <td>POINT (-89.32393 43.08449)</td>\n",
       "      <td>(-89.323934, 43.084486)</td>\n",
       "    </tr>\n",
       "    <tr>\n",
       "      <th>7</th>\n",
       "      <td>SEQ</td>\n",
       "      <td>43.053816</td>\n",
       "      <td>-89.450558</td>\n",
       "      <td>POINT (-89.45056 43.05382)</td>\n",
       "      <td>(-89.450558, 43.053816)</td>\n",
       "    </tr>\n",
       "    <tr>\n",
       "      <th>8</th>\n",
       "      <td>SMB</td>\n",
       "      <td>43.041280</td>\n",
       "      <td>-89.394235</td>\n",
       "      <td>POINT (-89.39424 43.04128)</td>\n",
       "      <td>(-89.3942354, 43.04128)</td>\n",
       "    </tr>\n",
       "  </tbody>\n",
       "</table>\n",
       "</div>"
      ],
      "text/plain": [
       "  Library   Latitude  Longitude                    geometry  \\\n",
       "0     HPB  43.076071 -89.517674  POINT (-89.51767 43.07607)   \n",
       "1     MAD  43.073691 -89.387407  POINT (-89.38741 43.07369)   \n",
       "2     HAW  43.101474 -89.346346  POINT (-89.34635 43.10147)   \n",
       "3     LAK  43.127783 -89.362315  POINT (-89.36231 43.12778)   \n",
       "4     MEA  43.032483 -89.479143  POINT (-89.47914 43.03248)   \n",
       "5     MSB  43.065924 -89.415187  POINT (-89.41519 43.06592)   \n",
       "6     PIN  43.084486 -89.323934  POINT (-89.32393 43.08449)   \n",
       "7     SEQ  43.053816 -89.450558  POINT (-89.45056 43.05382)   \n",
       "8     SMB  43.041280 -89.394235  POINT (-89.39424 43.04128)   \n",
       "\n",
       "                  distance  \n",
       "0  (-89.517674, 43.076071)  \n",
       "1  (-89.387407, 43.073691)  \n",
       "2  (-89.346346, 43.101474)  \n",
       "3  (-89.362315, 43.127783)  \n",
       "4  (-89.479143, 43.032483)  \n",
       "5  (-89.415187, 43.065924)  \n",
       "6  (-89.323934, 43.084486)  \n",
       "7  (-89.450558, 43.053816)  \n",
       "8  (-89.3942354, 43.04128)  "
      ]
     },
     "execution_count": 58,
     "metadata": {},
     "output_type": "execute_result"
    }
   ],
   "source": [
    "df_coo"
   ]
  },
  {
   "cell_type": "code",
   "execution_count": 59,
   "metadata": {},
   "outputs": [],
   "source": [
    "smallest=[]\n",
    "for i in range(len(gdf)):\n",
    "    smallest_new=[]\n",
    "    for j in range(len(df_coo)):\n",
    "        distance=geodesic(gdf['distance'].iloc[i],df_coo['distance'].iloc[j]).miles\n",
    "        smallest_new.append(distance)\n",
    "    smallest.append(min(smallest_new))\n",
    "gdf['smallest_distance']=smallest"
   ]
  },
  {
   "cell_type": "code",
   "execution_count": 69,
   "metadata": {},
   "outputs": [
    {
     "data": {
      "text/plain": [
       "count    200.000000\n",
       "mean       0.845613\n",
       "std        1.189809\n",
       "min        0.020425\n",
       "25%        0.245257\n",
       "50%        0.480890\n",
       "75%        0.915299\n",
       "max        9.896769\n",
       "Name: smallest_distance, dtype: float64"
      ]
     },
     "execution_count": 69,
     "metadata": {},
     "output_type": "execute_result"
    }
   ],
   "source": [
    "gdf.sort_values(\"smallest_distance\")[\"smallest_distance\"].describe()"
   ]
  },
  {
   "cell_type": "code",
   "execution_count": 74,
   "metadata": {},
   "outputs": [],
   "source": [
    "gdf = gdf[[\"GEOID10\",\"smallest_distance\"]]\n",
    "newgdf = pd.merge(gdf,df,on=\"GEOID10\")\n",
    "\n",
    "newgdf = gpd.GeoDataFrame(newgdf,geometry = \"geometry\")\n"
   ]
  },
  {
   "cell_type": "code",
   "execution_count": 77,
   "metadata": {},
   "outputs": [
    {
     "data": {
      "text/html": [
       "<div>\n",
       "<style scoped>\n",
       "    .dataframe tbody tr th:only-of-type {\n",
       "        vertical-align: middle;\n",
       "    }\n",
       "\n",
       "    .dataframe tbody tr th {\n",
       "        vertical-align: top;\n",
       "    }\n",
       "\n",
       "    .dataframe thead th {\n",
       "        text-align: right;\n",
       "    }\n",
       "</style>\n",
       "<table border=\"1\" class=\"dataframe\">\n",
       "  <thead>\n",
       "    <tr style=\"text-align: right;\">\n",
       "      <th></th>\n",
       "      <th>GEOID10</th>\n",
       "      <th>smallest_distance</th>\n",
       "      <th>geometry</th>\n",
       "      <th>centroid</th>\n",
       "    </tr>\n",
       "  </thead>\n",
       "  <tbody>\n",
       "    <tr>\n",
       "      <th>0</th>\n",
       "      <td>550250014031</td>\n",
       "      <td>0.715562</td>\n",
       "      <td>POLYGON ((-89.44960 43.02226, -89.44958 43.022...</td>\n",
       "      <td>POINT (-89.44025 43.02010)</td>\n",
       "    </tr>\n",
       "    <tr>\n",
       "      <th>1</th>\n",
       "      <td>550250020003</td>\n",
       "      <td>0.172544</td>\n",
       "      <td>POLYGON ((-89.33433 43.08995, -89.33429 43.089...</td>\n",
       "      <td>POINT (-89.34386 43.09155)</td>\n",
       "    </tr>\n",
       "    <tr>\n",
       "      <th>2</th>\n",
       "      <td>550250021002</td>\n",
       "      <td>0.024551</td>\n",
       "      <td>POLYGON ((-89.34428 43.10322, -89.34435 43.103...</td>\n",
       "      <td>POINT (-89.34670 43.10461)</td>\n",
       "    </tr>\n",
       "    <tr>\n",
       "      <th>3</th>\n",
       "      <td>550250021004</td>\n",
       "      <td>0.173930</td>\n",
       "      <td>POLYGON ((-89.36409 43.09863, -89.36409 43.098...</td>\n",
       "      <td>POINT (-89.35983 43.09928)</td>\n",
       "    </tr>\n",
       "    <tr>\n",
       "      <th>4</th>\n",
       "      <td>550250021003</td>\n",
       "      <td>0.483573</td>\n",
       "      <td>POLYGON ((-89.34989 43.10227, -89.34978 43.102...</td>\n",
       "      <td>POINT (-89.35331 43.10229)</td>\n",
       "    </tr>\n",
       "    <tr>\n",
       "      <th>...</th>\n",
       "      <td>...</td>\n",
       "      <td>...</td>\n",
       "      <td>...</td>\n",
       "      <td>...</td>\n",
       "    </tr>\n",
       "    <tr>\n",
       "      <th>205</th>\n",
       "      <td>550250019001</td>\n",
       "      <td>0.505579</td>\n",
       "      <td>POLYGON ((-89.35521 43.09202, -89.35491 43.092...</td>\n",
       "      <td>POINT (-89.35363 43.08923)</td>\n",
       "    </tr>\n",
       "    <tr>\n",
       "      <th>206</th>\n",
       "      <td>550250019003</td>\n",
       "      <td>0.595287</td>\n",
       "      <td>POLYGON ((-89.37502 43.07527, -89.37504 43.075...</td>\n",
       "      <td>POINT (-89.37088 43.07983)</td>\n",
       "    </tr>\n",
       "    <tr>\n",
       "      <th>207</th>\n",
       "      <td>550250019004</td>\n",
       "      <td>0.085149</td>\n",
       "      <td>POLYGON ((-89.35826 43.08813, -89.35833 43.088...</td>\n",
       "      <td>POINT (-89.36345 43.08593)</td>\n",
       "    </tr>\n",
       "    <tr>\n",
       "      <th>208</th>\n",
       "      <td>550250019002</td>\n",
       "      <td>0.222285</td>\n",
       "      <td>POLYGON ((-89.35416 43.08519, -89.35424 43.085...</td>\n",
       "      <td>POINT (-89.35915 43.08374)</td>\n",
       "    </tr>\n",
       "    <tr>\n",
       "      <th>209</th>\n",
       "      <td>550250020004</td>\n",
       "      <td>0.091412</td>\n",
       "      <td>POLYGON ((-89.35060 43.09763, -89.35058 43.097...</td>\n",
       "      <td>POINT (-89.34503 43.09887)</td>\n",
       "    </tr>\n",
       "  </tbody>\n",
       "</table>\n",
       "<p>210 rows × 4 columns</p>\n",
       "</div>"
      ],
      "text/plain": [
       "          GEOID10  smallest_distance  \\\n",
       "0    550250014031           0.715562   \n",
       "1    550250020003           0.172544   \n",
       "2    550250021002           0.024551   \n",
       "3    550250021004           0.173930   \n",
       "4    550250021003           0.483573   \n",
       "..            ...                ...   \n",
       "205  550250019001           0.505579   \n",
       "206  550250019003           0.595287   \n",
       "207  550250019004           0.085149   \n",
       "208  550250019002           0.222285   \n",
       "209  550250020004           0.091412   \n",
       "\n",
       "                                              geometry  \\\n",
       "0    POLYGON ((-89.44960 43.02226, -89.44958 43.022...   \n",
       "1    POLYGON ((-89.33433 43.08995, -89.33429 43.089...   \n",
       "2    POLYGON ((-89.34428 43.10322, -89.34435 43.103...   \n",
       "3    POLYGON ((-89.36409 43.09863, -89.36409 43.098...   \n",
       "4    POLYGON ((-89.34989 43.10227, -89.34978 43.102...   \n",
       "..                                                 ...   \n",
       "205  POLYGON ((-89.35521 43.09202, -89.35491 43.092...   \n",
       "206  POLYGON ((-89.37502 43.07527, -89.37504 43.075...   \n",
       "207  POLYGON ((-89.35826 43.08813, -89.35833 43.088...   \n",
       "208  POLYGON ((-89.35416 43.08519, -89.35424 43.085...   \n",
       "209  POLYGON ((-89.35060 43.09763, -89.35058 43.097...   \n",
       "\n",
       "                       centroid  \n",
       "0    POINT (-89.44025 43.02010)  \n",
       "1    POINT (-89.34386 43.09155)  \n",
       "2    POINT (-89.34670 43.10461)  \n",
       "3    POINT (-89.35983 43.09928)  \n",
       "4    POINT (-89.35331 43.10229)  \n",
       "..                          ...  \n",
       "205  POINT (-89.35363 43.08923)  \n",
       "206  POINT (-89.37088 43.07983)  \n",
       "207  POINT (-89.36345 43.08593)  \n",
       "208  POINT (-89.35915 43.08374)  \n",
       "209  POINT (-89.34503 43.09887)  \n",
       "\n",
       "[210 rows x 4 columns]"
      ]
     },
     "execution_count": 77,
     "metadata": {},
     "output_type": "execute_result"
    }
   ],
   "source": [
    "newgdf"
   ]
  },
  {
   "cell_type": "code",
   "execution_count": 80,
   "metadata": {},
   "outputs": [],
   "source": [
    "gdf.to_csv(\"smallest_distance.csv\")"
   ]
  },
  {
   "cell_type": "code",
   "execution_count": 76,
   "metadata": {},
   "outputs": [
    {
     "data": {
      "text/plain": [
       "<AxesSubplot:>"
      ]
     },
     "execution_count": 76,
     "metadata": {},
     "output_type": "execute_result"
    },
    {
     "data": {
      "image/png": "[encoded data removed]",
      "text/plain": [
       "<Figure size 1152x1152 with 1 Axes>"
      ]
     },
     "metadata": {
      "needs_background": "light"
     },
     "output_type": "display_data"
    }
   ],
   "source": [
    "newgdf.plot(column=\"smallest_distance\",figsize = (16,16),cmap = \"BuPu\")"
   ]
  }
 ],
 "metadata": {
  "kernelspec": {
   "display_name": "Python 3",
   "language": "python",
   "name": "python3"
  },
  "language_info": {
   "codemirror_mode": {
    "name": "ipython",
    "version": 3
   },
   "file_extension": ".py",
   "mimetype": "text/x-python",
   "name": "python",
   "nbconvert_exporter": "python",
   "pygments_lexer": "ipython3",
   "version": "3.7.0"
  }
 },
 "nbformat": 4,
 "nbformat_minor": 2
}
