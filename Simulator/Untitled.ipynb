{
 "cells": [
  {
   "cell_type": "code",
   "execution_count": 1,
   "metadata": {},
   "outputs": [],
   "source": [
    "from census import Census\n",
    "from us import states\n",
    "import requests\n"
   ]
  },
  {
   "cell_type": "code",
   "execution_count": 2,
   "metadata": {},
   "outputs": [
    {
     "name": "stdout",
     "output_type": "stream",
     "text": [
      "Cencus codes:\n",
      "{'Total!!Population of one race!!White': 'PCT023003', 'Total!!Population of one race!!Black or African American': 'PCT023004', 'Total!!Population of one race!!Asian': 'PCT023006'}\n",
      "53717\n",
      "{'state': '55', 'zip code tabulation area (or part)': '53717', 'White': 9393.0, 'Black or African American': 575.0, 'Asian': 1497.0}\n",
      "53703\n",
      "{'state': '55', 'zip code tabulation area (or part)': '53703', 'White': 23818.0, 'Black or African American': 1289.0, 'Asian': 1703.0}\n",
      "53715\n",
      "{'state': '55', 'zip code tabulation area (or part)': '53715', 'White': 10070.0, 'Black or African American': 420.0, 'Asian': 1120.0}\n"
     ]
    }
   ],
   "source": [
    "c = Census(\"5663f37b7cd6f3f50ff75d2cc9963c453be6421d\") # TODO: replace this key\n",
    "\n",
    "lookup = {\n",
    "    \"Total!!Population of one race!!White\": None,\n",
    "    \"Total!!Population of one race!!Black or African American\": None,\n",
    "    \"Total!!Population of one race!!Asian\": None,\n",
    "    # TODO: what else?  Check all fields...\n",
    "}\n",
    "r = requests.get(\"https://api.census.gov/data/2010/dec/sf1/variables.json\")\n",
    "r.raise_for_status()\n",
    "fields = r.json()[\"variables\"]\n",
    "for key, val in fields.items():\n",
    "    desc = val[\"label\"]\n",
    "    if desc in lookup:\n",
    "        lookup[desc] = key\n",
    "\n",
    "print(\"Cencus codes:\")\n",
    "print(lookup)\n",
    "rev = {v:k for k,v in lookup.items()}\n",
    "\n",
    "def grab_zip(zipcode):\n",
    "    #row = c.sf1.state_zipcode(list(lookup.values()), states.WI.fips, zipcode)[0]\n",
    "    row = c.acs5.state_county_blockgroup(list(lookup.values()), states.WI.fips, zipcode)[0]\n",
    "    keys = list(row.keys())\n",
    "    for k in keys:\n",
    "        if k in rev:\n",
    "            new_key = rev[k].split(\"!!\")[-1]\n",
    "            val = row.pop(k)\n",
    "            row[new_key] = val\n",
    "    return row\n",
    "\n",
    "for z in [\"53717\", \"53703\", \"53715\"]:\n",
    "    print(z)\n",
    "    print(grab_zip(z)) \n"
   ]
  }
 ],
 "metadata": {
  "kernelspec": {
   "display_name": "Python 3",
   "language": "python",
   "name": "python3"
  },
  "language_info": {
   "codemirror_mode": {
    "name": "ipython",
    "version": 3
   },
   "file_extension": ".py",
   "mimetype": "text/x-python",
   "name": "python",
   "nbconvert_exporter": "python",
   "pygments_lexer": "ipython3",
   "version": "3.7.0"
  }
 },
 "nbformat": 4,
 "nbformat_minor": 2
}
